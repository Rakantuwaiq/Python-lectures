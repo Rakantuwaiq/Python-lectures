{
 "cells": [
  {
   "cell_type": "markdown",
   "id": "7cf91647",
   "metadata": {},
   "source": [
    "# Python Programming Language 2\n",
    "\n",
    "<img src=\"data:image/png;base64,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\">"
   ]
  },
  {
   "cell_type": "markdown",
   "id": "ba7ad600",
   "metadata": {},
   "source": [
    "# 1. Functions in Python\n",
    "\n",
    "A function is a block of code which only runs when it is called."
   ]
  },
  {
   "cell_type": "markdown",
   "id": "11dd0949",
   "metadata": {},
   "source": [
    "## 1.1 Simple function"
   ]
  },
  {
   "cell_type": "markdown",
   "id": "d75fc023",
   "metadata": {},
   "source": [
    "#### Define a function"
   ]
  },
  {
   "cell_type": "code",
   "execution_count": 1,
   "id": "c626cc9c",
   "metadata": {},
   "outputs": [],
   "source": [
    "# you can use def to define a function in python\n",
    "\n",
    "def hellofunction():\n",
    "    print('it worked !!')\n",
    "    "
   ]
  },
  {
   "cell_type": "code",
   "execution_count": 2,
   "id": "d477bdc6",
   "metadata": {},
   "outputs": [
    {
     "name": "stdout",
     "output_type": "stream",
     "text": [
      "it worked !!\n"
     ]
    }
   ],
   "source": [
    "# To call a function, use the function name followed by parenthesis\n",
    "\n",
    "hellofunction()"
   ]
  },
  {
   "cell_type": "markdown",
   "id": "4f0c06cb",
   "metadata": {},
   "source": [
    "### Arguements and Parameters"
   ]
  },
  {
   "cell_type": "code",
   "execution_count": 9,
   "id": "d046479d",
   "metadata": {},
   "outputs": [
    {
     "data": {
      "text/plain": [
       "7"
      ]
     },
     "execution_count": 9,
     "metadata": {},
     "output_type": "execute_result"
    }
   ],
   "source": [
    "def add(a, b):\n",
    "    return a + b\n",
    "\n",
    "add(5, 2)\n"
   ]
  },
  {
   "cell_type": "markdown",
   "id": "fa1813ae",
   "metadata": {},
   "source": [
    "#### return vs print "
   ]
  },
  {
   "cell_type": "code",
   "execution_count": 19,
   "id": "f95114c6",
   "metadata": {},
   "outputs": [
    {
     "name": "stdout",
     "output_type": "stream",
     "text": [
      "this output from return: 5\n",
      "5\n",
      "this output from print: None\n"
     ]
    }
   ],
   "source": [
    "#using return \n",
    "\n",
    "def add(a,b):\n",
    "    \n",
    "    return a + b\n",
    "    \n",
    "result = add(2,3)\n",
    "print(f'this output from return: {result}')\n",
    "\n",
    "#using print \n",
    "\n",
    "\n",
    "def add(a,b):\n",
    "    \n",
    "    print(a + b)\n",
    "    \n",
    "result = add(2,3)\n",
    "print(f'this output from print: {result}')"
   ]
  },
  {
   "cell_type": "markdown",
   "id": "7a4a6f98",
   "metadata": {},
   "source": [
    "## Scope of the function "
   ]
  },
  {
   "cell_type": "code",
   "execution_count": 20,
   "id": "334add2d",
   "metadata": {},
   "outputs": [
    {
     "name": "stdout",
     "output_type": "stream",
     "text": [
      "Python is fantastic\n"
     ]
    }
   ],
   "source": [
    "x = \"awesome\" # Global Variable\n",
    "\n",
    "def myfunc():\n",
    "    global x\n",
    "    x = \"fantastic\" # local Variable\n",
    "\n",
    "myfunc()\n",
    "print(\"Python is \" + x) "
   ]
  },
  {
   "cell_type": "markdown",
   "id": "9bcfaf28",
   "metadata": {},
   "source": [
    "## *args and **kwargs\n",
    "\n",
    "*args allows a function to accept any number of positional arguments.\n",
    "convention, the name args is used, but any valid variable name can be used\n",
    "\n",
    "**kwargs allows a function to accept any number of keyword arguments (arguments that are passed as key-value pairs)."
   ]
  },
  {
   "cell_type": "code",
   "execution_count": 2,
   "id": "2657f282",
   "metadata": {},
   "outputs": [
    {
     "name": "stdout",
     "output_type": "stream",
     "text": [
      "\n",
      "Making a 12-inch pizza with the following toppings:\n",
      "- pepperoni\n",
      "- mushrooms\n",
      "- green peppers\n",
      "Your pizza is ready!\n",
      "\n",
      "Making a 16-inch pizza with the following toppings:\n",
      "- bacon\n",
      "- pineapple\n",
      "\n",
      "Additional options:\n",
      "crust: thin\n",
      "extra_cheese: True\n",
      "Your pizza is ready!\n",
      "\n",
      "Making a 10-inch pizza with the following toppings:\n",
      "\n",
      "Additional options:\n",
      "crust: stuffed\n",
      "extra_cheese: True\n",
      "gluten_free: True\n",
      "Your pizza is ready!\n"
     ]
    }
   ],
   "source": [
    "def make_pizza(size, *toppings, **options):\n",
    "    print(f\"\\nMaking a {size}-inch pizza with the following toppings:\")\n",
    "    for topping in toppings:\n",
    "        print(f\"- {topping}\")\n",
    "    \n",
    "    if options:\n",
    "        print(\"\\nAdditional options:\")\n",
    "        for option, value in options.items():\n",
    "            print(f\"{option}: {value}\")\n",
    "    \n",
    "    print(\"Your pizza is ready!\")\n",
    "\n",
    "# Ordering different types of pizzas\n",
    "\n",
    "# 1. Basic pizza with some toppings\n",
    "make_pizza(12, 'pepperoni', 'mushrooms', 'green peppers')\n",
    "\n",
    "# 2. Pizza with toppings and some additional options\n",
    "make_pizza(16, 'bacon', 'pineapple', crust='thin', extra_cheese=True)\n",
    "\n",
    "# 3. Pizza with no toppings, but with options\n",
    "make_pizza(10, crust='stuffed', extra_cheese=True, gluten_free=True)\n"
   ]
  },
  {
   "cell_type": "markdown",
   "id": "fdbe489d",
   "metadata": {},
   "source": [
    "## 1.2 A lambda function"
   ]
  },
  {
   "cell_type": "markdown",
   "id": "674f1a95",
   "metadata": {},
   "source": [
    "### A lambda function is a small anonymous function."
   ]
  },
  {
   "cell_type": "code",
   "execution_count": 21,
   "id": "2bb11cd4",
   "metadata": {},
   "outputs": [
    {
     "name": "stdout",
     "output_type": "stream",
     "text": [
      "10\n"
     ]
    }
   ],
   "source": [
    "sum = lambda firstNumber, secondNumber : firstNumber + secondNumber\n",
    "print(sum(1, 9))"
   ]
  },
  {
   "cell_type": "markdown",
   "id": "9881d489",
   "metadata": {},
   "source": [
    "## Equivelent def function"
   ]
  },
  {
   "cell_type": "code",
   "execution_count": 22,
   "id": "152f64e3",
   "metadata": {},
   "outputs": [
    {
     "name": "stdout",
     "output_type": "stream",
     "text": [
      "10\n"
     ]
    }
   ],
   "source": [
    "def function(firstNumber, secondNumber):\n",
    "    return firstNumber + secondNumber\n",
    "\n",
    "sum = function(1, 9)\n",
    "print(sum)"
   ]
  },
  {
   "cell_type": "markdown",
   "id": "e5ddbe24",
   "metadata": {},
   "source": [
    "## 1.3 Recursion Function\n"
   ]
  },
  {
   "cell_type": "markdown",
   "id": "12a9db06",
   "metadata": {},
   "source": [
    "### in Python, we know that a function can call other functions. It is even possible for the function to call itself. These types of construct are termed as recursive functions"
   ]
  },
  {
   "cell_type": "code",
   "execution_count": 24,
   "id": "0c84f6de",
   "metadata": {},
   "outputs": [
    {
     "name": "stdout",
     "output_type": "stream",
     "text": [
      "The factorial of 4 is 24\n"
     ]
    }
   ],
   "source": [
    "def factorial(x):\n",
    " \n",
    "\n",
    "    if x == 1:\n",
    "        return 1\n",
    "    else:\n",
    "        return (x * factorial(x-1))\n",
    "\n",
    "\n",
    "num = 4\n",
    "print(\"The factorial of\", num, \"is\", factorial(num))"
   ]
  },
  {
   "cell_type": "markdown",
   "id": "2fb4746a",
   "metadata": {},
   "source": [
    "## 1.4 built-in Functions"
   ]
  },
  {
   "cell_type": "markdown",
   "id": "58cd5cec",
   "metadata": {},
   "source": [
    "###  built-in Functions are pre-defined functions provided by the Python language that can be used to perform common tasks."
   ]
  },
  {
   "cell_type": "markdown",
   "id": "98fb85f5",
   "metadata": {},
   "source": [
    "#### example: abs() is a mathmatical built in function in python that gives the absolute value of a number "
   ]
  },
  {
   "cell_type": "code",
   "execution_count": 25,
   "id": "b66b973d",
   "metadata": {},
   "outputs": [
    {
     "name": "stdout",
     "output_type": "stream",
     "text": [
      "7\n"
     ]
    }
   ],
   "source": [
    " a = -7 \n",
    " \n",
    " print(abs(a))"
   ]
  },
  {
   "cell_type": "markdown",
   "id": "e7a789d9",
   "metadata": {},
   "source": [
    "## Input Function"
   ]
  },
  {
   "cell_type": "code",
   "execution_count": 30,
   "id": "03735fd3",
   "metadata": {},
   "outputs": [
    {
     "name": "stdout",
     "output_type": "stream",
     "text": [
      "Rakan\n"
     ]
    }
   ],
   "source": [
    "inpt = input(\"Enter your name: \")\n",
    "print(inpt)"
   ]
  },
  {
   "cell_type": "markdown",
   "id": "fa56a71b",
   "metadata": {},
   "source": [
    "#### Task: search for three built in (mathmatical function, sequence function)"
   ]
  },
  {
   "cell_type": "code",
   "execution_count": null,
   "id": "af691cb6",
   "metadata": {},
   "outputs": [],
   "source": []
  },
  {
   "cell_type": "markdown",
   "id": "cabe27a0",
   "metadata": {},
   "source": [
    "# 2. Control flow"
   ]
  },
  {
   "cell_type": "markdown",
   "id": "593cec73",
   "metadata": {},
   "source": [
    "## 2.1 Conditions"
   ]
  },
  {
   "cell_type": "markdown",
   "id": "f9e2acc9",
   "metadata": {},
   "source": [
    "### if steatment"
   ]
  },
  {
   "cell_type": "code",
   "execution_count": 26,
   "id": "452e029b",
   "metadata": {},
   "outputs": [],
   "source": [
    "value = 10\n",
    "\n",
    "if value == 20:\n",
    "    print(\"yes\")"
   ]
  },
  {
   "cell_type": "markdown",
   "id": "64324a64",
   "metadata": {},
   "source": [
    "## if and else"
   ]
  },
  {
   "cell_type": "code",
   "execution_count": 27,
   "id": "61c38047",
   "metadata": {},
   "outputs": [
    {
     "name": "stdout",
     "output_type": "stream",
     "text": [
      "yes\n"
     ]
    }
   ],
   "source": [
    "value = 10\n",
    "if value == 10:\n",
    "    print(\"yes\")\n",
    "else:\n",
    "    print(\"No\")"
   ]
  },
  {
   "cell_type": "markdown",
   "id": "bdafa80c",
   "metadata": {},
   "source": [
    "## if, elif, else"
   ]
  },
  {
   "cell_type": "code",
   "execution_count": 28,
   "id": "2fa1b161",
   "metadata": {},
   "outputs": [
    {
     "name": "stdout",
     "output_type": "stream",
     "text": [
      "The two teams got the same score\n"
     ]
    }
   ],
   "source": [
    "teamBlueScore = teamRedScore = 7\n",
    "\n",
    "if teamBlueScore > teamRedScore:\n",
    "        print(\"Team Blue Won\")\n",
    "elif teamBlueScore == teamRedScore:\n",
    "        print(\"The two teams got the same score\")\n",
    "else:\n",
    "        print(\"Team Blue Lost\")"
   ]
  },
  {
   "cell_type": "code",
   "execution_count": 29,
   "id": "2f3b1c4b",
   "metadata": {},
   "outputs": [],
   "source": [
    "name = \"Mohammad\"\n",
    "number = 22\n",
    "\n",
    "if name == \"Mohammad\":\n",
    "    if number == 23:\n",
    "        print(\"Your name is Mohammad, and your number is 23\")"
   ]
  },
  {
   "cell_type": "markdown",
   "id": "2b1ab92a",
   "metadata": {},
   "source": [
    "## task: make use of Condition statement to automate any daily task\n"
   ]
  },
  {
   "cell_type": "code",
   "execution_count": null,
   "id": "98685dd2",
   "metadata": {},
   "outputs": [],
   "source": []
  },
  {
   "cell_type": "markdown",
   "id": "a39550cd",
   "metadata": {},
   "source": [
    "# 2.2 loops\n"
   ]
  },
  {
   "cell_type": "markdown",
   "id": "e8fe52b2",
   "metadata": {},
   "source": [
    "## While Loop"
   ]
  },
  {
   "cell_type": "code",
   "execution_count": 31,
   "id": "23df1dd1",
   "metadata": {},
   "outputs": [
    {
     "name": "stdout",
     "output_type": "stream",
     "text": [
      "1\n",
      "2\n",
      "3\n",
      "4\n",
      "5\n",
      "6\n",
      "7\n",
      "8\n",
      "9\n",
      "10\n"
     ]
    }
   ],
   "source": [
    "x = 1\n",
    "\n",
    "while x <= 10:\n",
    "    print(x)\n",
    "    x += 1"
   ]
  },
  {
   "cell_type": "markdown",
   "id": "0ad877ba",
   "metadata": {},
   "source": [
    "## For Loop\n",
    "\n"
   ]
  },
  {
   "cell_type": "code",
   "execution_count": 32,
   "id": "40479b0a",
   "metadata": {},
   "outputs": [
    {
     "name": "stdout",
     "output_type": "stream",
     "text": [
      "1\n",
      "2\n",
      "3\n",
      "4\n",
      "5\n",
      "6\n",
      "7\n",
      "8\n",
      "9\n",
      "10\n"
     ]
    }
   ],
   "source": [
    "for i in range(1,11):\n",
    "    print(i)"
   ]
  },
  {
   "cell_type": "markdown",
   "id": "7e4d2b96",
   "metadata": {},
   "source": [
    "### loop with list "
   ]
  },
  {
   "cell_type": "code",
   "execution_count": 33,
   "id": "00be9681",
   "metadata": {},
   "outputs": [
    {
     "name": "stdout",
     "output_type": "stream",
     "text": [
      "0\n",
      "1\n",
      "2\n"
     ]
    }
   ],
   "source": [
    "numbers = [0, 1, 2]\n",
    "\n",
    "for num in numbers:\n",
    "    print(num)"
   ]
  },
  {
   "cell_type": "markdown",
   "id": "5827a097",
   "metadata": {},
   "source": [
    "###  task: loop with Dictionaries"
   ]
  },
  {
   "cell_type": "code",
   "execution_count": null,
   "id": "54259a59",
   "metadata": {},
   "outputs": [],
   "source": []
  },
  {
   "cell_type": "markdown",
   "id": "7c6b054e",
   "metadata": {},
   "source": [
    "### Nested Loops"
   ]
  },
  {
   "cell_type": "code",
   "execution_count": 39,
   "id": "dce7c0ec",
   "metadata": {},
   "outputs": [
    {
     "name": "stdout",
     "output_type": "stream",
     "text": [
      "1 A\n",
      "1 B\n",
      "1 C\n",
      "2 A\n",
      "2 B\n",
      "2 C\n"
     ]
    }
   ],
   "source": [
    "numbers = [1, 2]\n",
    "letters = [\"A\", \"B\", \"C\"]\n",
    "\n",
    "for num in numbers:\n",
    "    for letter in letters:\n",
    "        print(num, letter)"
   ]
  },
  {
   "cell_type": "markdown",
   "id": "8aad13b7",
   "metadata": {},
   "source": [
    "### Continue Statement"
   ]
  },
  {
   "cell_type": "code",
   "execution_count": 35,
   "id": "0b771e90",
   "metadata": {},
   "outputs": [
    {
     "name": "stdout",
     "output_type": "stream",
     "text": [
      "1  is odd\n",
      "3  is odd\n",
      "5  is odd\n"
     ]
    }
   ],
   "source": [
    "numbers = [1, 2, 3, 4, 5]\n",
    "\n",
    "for num in numbers:\n",
    "    if num % 2 == 0:\n",
    "        continue\n",
    "    \n",
    "    print(num,\" is odd\")"
   ]
  },
  {
   "cell_type": "markdown",
   "id": "c4e019bd",
   "metadata": {},
   "source": [
    "### Break Statement"
   ]
  },
  {
   "cell_type": "code",
   "execution_count": 36,
   "id": "daf409e5",
   "metadata": {},
   "outputs": [
    {
     "name": "stdout",
     "output_type": "stream",
     "text": [
      "1  is odd\n"
     ]
    }
   ],
   "source": [
    "numbers = [1, 2, 3, 4, 5]\n",
    "for num in numbers:\n",
    "    if num % 2 == 0:\n",
    "        break\n",
    "    print(num,\" is odd\")"
   ]
  },
  {
   "cell_type": "markdown",
   "id": "455377d5",
   "metadata": {},
   "source": [
    "### Pass Statement"
   ]
  },
  {
   "cell_type": "code",
   "execution_count": 37,
   "id": "b7dd8b66",
   "metadata": {},
   "outputs": [],
   "source": [
    "for x in [0, 1, 2]:\n",
    "    pass"
   ]
  },
  {
   "cell_type": "markdown",
   "id": "53f40e1e",
   "metadata": {},
   "source": [
    "## task: make use of loops to automate any daily task\n"
   ]
  },
  {
   "cell_type": "code",
   "execution_count": null,
   "id": "74edbd6d",
   "metadata": {},
   "outputs": [],
   "source": []
  },
  {
   "cell_type": "markdown",
   "id": "c5da6dcb",
   "metadata": {},
   "source": [
    "## 2.3 List Comprehension"
   ]
  },
  {
   "cell_type": "code",
   "execution_count": 40,
   "id": "5d43e9b1",
   "metadata": {},
   "outputs": [
    {
     "name": "stdout",
     "output_type": "stream",
     "text": [
      "[1, 2, 3, 4, 5]\n"
     ]
    }
   ],
   "source": [
    "lst = []\n",
    "\n",
    "for i in [1, 2, 3, 4, 5]:\n",
    "    lst.append(i)\n",
    "\n",
    "print(lst)"
   ]
  },
  {
   "cell_type": "code",
   "execution_count": 41,
   "id": "a08f3e40",
   "metadata": {},
   "outputs": [
    {
     "name": "stdout",
     "output_type": "stream",
     "text": [
      "[1, 2, 3, 4, 5]\n"
     ]
    }
   ],
   "source": [
    "lst = [i for i in [1, 2, 3, 4, 5]]\n",
    "\n",
    "print(lst)"
   ]
  },
  {
   "cell_type": "code",
   "execution_count": 43,
   "id": "d5ca9961",
   "metadata": {},
   "outputs": [
    {
     "name": "stdout",
     "output_type": "stream",
     "text": [
      "[2, 4, 6, 8, 10]\n"
     ]
    }
   ],
   "source": [
    "lst = [i for i in range(1, 11) if i % 2 == 0]\n",
    "\n",
    "print(lst)"
   ]
  },
  {
   "cell_type": "markdown",
   "id": "ca134fa5",
   "metadata": {},
   "source": [
    "# 2.4 Try and Except\n"
   ]
  },
  {
   "cell_type": "code",
   "execution_count": 44,
   "id": "9e22851c",
   "metadata": {},
   "outputs": [
    {
     "ename": "TypeError",
     "evalue": "can only concatenate str (not \"int\") to str",
     "output_type": "error",
     "traceback": [
      "\u001b[0;31m---------------------------------------------------------------------------\u001b[0m",
      "\u001b[0;31mTypeError\u001b[0m                                 Traceback (most recent call last)",
      "Cell \u001b[0;32mIn[44], line 2\u001b[0m\n\u001b[1;32m      1\u001b[0m enter \u001b[38;5;241m=\u001b[39m \u001b[38;5;28minput\u001b[39m(\u001b[38;5;124m'\u001b[39m\u001b[38;5;124mEnter your number to add it by 2 : \u001b[39m\u001b[38;5;124m'\u001b[39m)\n\u001b[0;32m----> 2\u001b[0m \u001b[38;5;28mprint\u001b[39m(\u001b[43menter\u001b[49m\u001b[43m \u001b[49m\u001b[38;5;241;43m+\u001b[39;49m\u001b[43m \u001b[49m\u001b[38;5;241;43m2\u001b[39;49m)\n",
      "\u001b[0;31mTypeError\u001b[0m: can only concatenate str (not \"int\") to str"
     ]
    }
   ],
   "source": [
    "enter = input('Enter your number to add it by 2 : ')\n",
    "print(enter + 2)"
   ]
  },
  {
   "cell_type": "code",
   "execution_count": 46,
   "id": "bef90227",
   "metadata": {},
   "outputs": [
    {
     "name": "stdout",
     "output_type": "stream",
     "text": [
      "2\n",
      "Hamad\n",
      "Hello\n"
     ]
    }
   ],
   "source": [
    "try:\n",
    "    enter = input('Enter your number to add it by 2 : ')\n",
    "    print(enter + str(2))\n",
    "    print('Hamad')\n",
    "except:\n",
    "    print('Ops!! Something wrong..')\n",
    "\n",
    "print('Hello')"
   ]
  },
  {
   "cell_type": "code",
   "execution_count": 45,
   "id": "6d325243",
   "metadata": {},
   "outputs": [
    {
     "name": "stdout",
     "output_type": "stream",
     "text": [
      "can only concatenate str (not \"int\") to str\n",
      "Hamad\n"
     ]
    }
   ],
   "source": [
    "try:\n",
    "    enter = input('Enter your number to add it by 2 : ')\n",
    "    print(enter + 2)\n",
    "except Exception as e:\n",
    "    print(e)\n",
    "\n",
    "print('Hamad')"
   ]
  },
  {
   "cell_type": "markdown",
   "id": "f29a7693",
   "metadata": {},
   "source": [
    "#### Can we add new element to tuple using some \"TRICK\"?"
   ]
  },
  {
   "cell_type": "code",
   "execution_count": 44,
   "id": "7538758d",
   "metadata": {},
   "outputs": [
    {
     "name": "stdout",
     "output_type": "stream",
     "text": [
      "The old tuple                          : (1, 2, 2, 3, 4, 4, 5)\n",
      "The list after converting the tuple    : [1, 2, 2, 3, 4, 4, 5]\n",
      "The list after adding new element      : [1, 2, 2, 3, 4, 4, 5, 6]\n",
      "The new tuple after adding new element : (1, 2, 2, 3, 4, 4, 5, 6)\n"
     ]
    }
   ],
   "source": [
    "print(f'The old tuple                          : {my_tuple}')\n",
    "\n",
    "lst = list(my_tuple)\n",
    "\n",
    "print(f'The list after converting the tuple    : {lst}')\n",
    "\n",
    "lst.append(6)\n",
    "\n",
    "print(f'The list after adding new element      : {lst}')\n",
    "\n",
    "new_tuple = tuple(lst)\n",
    "\n",
    "print(f'The new tuple after adding new element : {new_tuple}')"
   ]
  },
  {
   "cell_type": "markdown",
   "id": "db7ac7d2",
   "metadata": {},
   "source": [
    "#### Can we sort tuple using some \"TRICK\"?"
   ]
  },
  {
   "cell_type": "code",
   "execution_count": 45,
   "id": "6ba3453e",
   "metadata": {},
   "outputs": [
    {
     "name": "stdout",
     "output_type": "stream",
     "text": [
      "The old tuple                          : (1, 2, 2, 3, 4, 4, 5)\n",
      "The list after converting the tuple    : [1, 2, 2, 3, 4, 4, 5]\n",
      "The list after sorting                 : [5, 4, 4, 3, 2, 2, 1]\n",
      "The new tuple after sorting            : (5, 4, 4, 3, 2, 2, 1)\n"
     ]
    }
   ],
   "source": [
    "print(f'The old tuple                          : {my_tuple}')\n",
    "\n",
    "lst = list(my_tuple)\n",
    "\n",
    "print(f'The list after converting the tuple    : {lst}')\n",
    "\n",
    "lst.sort(reverse=True)\n",
    "\n",
    "print(f'The list after sorting                 : {lst}')\n",
    "\n",
    "new_tuple = tuple(lst)\n",
    "\n",
    "print(f'The new tuple after sorting            : {new_tuple}')"
   ]
  },
  {
   "cell_type": "markdown",
   "id": "1fc8b342",
   "metadata": {},
   "source": [
    "#### Can we change values using some \"TRICK\"?"
   ]
  },
  {
   "cell_type": "code",
   "execution_count": 46,
   "id": "9131e9b4",
   "metadata": {},
   "outputs": [
    {
     "name": "stdout",
     "output_type": "stream",
     "text": [
      "The old tuple                                    : (1, 2, 2, 3, 4, 4, 5)\n",
      "The list after converting the tuple              : [1, 2, 2, 3, 4, 4, 5]\n",
      "The list after changing value of an element      : ['Hamad', 2, 2, 3, 4, 4, 5]\n",
      "The new tuple after changing value of an element : ('Hamad', 2, 2, 3, 4, 4, 5)\n"
     ]
    }
   ],
   "source": [
    "print(f'The old tuple                                    : {my_tuple}')\n",
    "\n",
    "lst = list(my_tuple)\n",
    "\n",
    "print(f'The list after converting the tuple              : {lst}')\n",
    "\n",
    "lst[0] = 'Hamad'\n",
    "\n",
    "print(f'The list after changing value of an element      : {lst}')\n",
    "\n",
    "new_tuple = tuple(lst)\n",
    "\n",
    "print(f'The new tuple after changing value of an element : {new_tuple}')"
   ]
  },
  {
   "cell_type": "markdown",
   "id": "92ef3eb3",
   "metadata": {},
   "source": [
    "#### Can we delete an element from tuple using some \"TRICK\"?"
   ]
  },
  {
   "cell_type": "code",
   "execution_count": 47,
   "id": "720ca8c3",
   "metadata": {},
   "outputs": [
    {
     "name": "stdout",
     "output_type": "stream",
     "text": [
      "The old tuple                           : (1, 2, 2, 3, 4, 4, 5)\n",
      "The list after converting the tuple     : [1, 2, 2, 3, 4, 4, 5]\n",
      "The list after deleting an element      : [2, 2, 3, 4, 4, 5]\n",
      "The new tuple after deleting an element : (2, 2, 3, 4, 4, 5)\n"
     ]
    }
   ],
   "source": [
    "print(f'The old tuple                           : {my_tuple}')\n",
    "\n",
    "lst = list(my_tuple)\n",
    "\n",
    "print(f'The list after converting the tuple     : {lst}')\n",
    "\n",
    "lst.pop(0)\n",
    "\n",
    "print(f'The list after deleting an element      : {lst}')\n",
    "\n",
    "new_tuple = tuple(lst)\n",
    "\n",
    "print(f'The new tuple after deleting an element : {new_tuple}')"
   ]
  },
  {
   "cell_type": "markdown",
   "id": "e0c3e08d",
   "metadata": {},
   "source": [
    "# 3. Classes and Objects"
   ]
  },
  {
   "cell_type": "markdown",
   "id": "f7669610",
   "metadata": {},
   "source": [
    "#### Create class"
   ]
  },
  {
   "cell_type": "code",
   "execution_count": 92,
   "id": "a21df02b",
   "metadata": {},
   "outputs": [],
   "source": [
    "class Vehicle:\n",
    "    \n",
    "    # Constructor function\n",
    "    def __init__(self, max_speed, mileage, color):\n",
    "        self.max_speed = max_speed\n",
    "        self.mileage = mileage\n",
    "        self.color = color\n",
    "        self.seating_capacity = None\n",
    "\n",
    "    # Add value to attribute function\n",
    "    def assign_seating_capacity(self, seating_capacity):\n",
    "        self.seating_capacity = seating_capacity\n",
    "    \n",
    "    # Display info function\n",
    "    def display_properties(self):\n",
    "        print(\"Properties of the Vehicle:\")\n",
    "        print(\"Color:\", self.color)\n",
    "        print(\"Maximum Speed:\", self.max_speed)\n",
    "        print(\"Mileage:\", self.mileage)\n",
    "        print(\"Seating Capacity:\", self.seating_capacity)"
   ]
  },
  {
   "cell_type": "markdown",
   "id": "927e28c0",
   "metadata": {},
   "source": [
    "#### Create objects"
   ]
  },
  {
   "cell_type": "code",
   "execution_count": 93,
   "id": "35b8cd6e",
   "metadata": {},
   "outputs": [
    {
     "name": "stdout",
     "output_type": "stream",
     "text": [
      "Properties of the Vehicle:\n",
      "Color: White\n",
      "Maximum Speed: 200\n",
      "Mileage: 50000\n",
      "Seating Capacity: 5\n",
      "\n",
      "Properties of the Vehicle:\n",
      "Color: Black\n",
      "Maximum Speed: 180\n",
      "Mileage: 75000\n",
      "Seating Capacity: 4\n"
     ]
    }
   ],
   "source": [
    "vehicle1 = Vehicle(200, 50000, 'White')\n",
    "vehicle1.assign_seating_capacity(5)\n",
    "vehicle1.display_properties()\n",
    "\n",
    "print()\n",
    "\n",
    "vehicle2 = Vehicle(180, 75000, 'Black')\n",
    "vehicle2.assign_seating_capacity(4)\n",
    "vehicle2.display_properties()"
   ]
  },
  {
   "cell_type": "markdown",
   "id": "33c48847",
   "metadata": {},
   "source": [
    "#### Inheritance"
   ]
  },
  {
   "cell_type": "code",
   "execution_count": 94,
   "id": "753fa8e0",
   "metadata": {},
   "outputs": [],
   "source": [
    "class Human():\n",
    "    def __init__(self, name, age):\n",
    "        self.name = name\n",
    "        self.age = age"
   ]
  },
  {
   "cell_type": "code",
   "execution_count": 95,
   "id": "1717cf74",
   "metadata": {},
   "outputs": [],
   "source": [
    "class Student(Human):\n",
    "    \n",
    "    def __init__(self, name, age, id_number, university):\n",
    "        super().__init__(name, age)\n",
    "        self.id_number = id_number\n",
    "        self.university = university\n",
    "    \n",
    "    def student_data(self):\n",
    "        return {\n",
    "            'name'       : self.name,\n",
    "            'age'        : self.age,\n",
    "            'id number'  : self.id_number,\n",
    "            'university' : self.university\n",
    "        }"
   ]
  },
  {
   "cell_type": "code",
   "execution_count": 96,
   "id": "7b000cd4",
   "metadata": {},
   "outputs": [
    {
     "data": {
      "text/plain": [
       "{'name': 'Hamad', 'age': 21, 'id number': 444000333, 'university': 'KSU'}"
      ]
     },
     "execution_count": 96,
     "metadata": {},
     "output_type": "execute_result"
    }
   ],
   "source": [
    "s = Student('Hamad', 21, 444000333, 'KSU')\n",
    "s.student_data()"
   ]
  },
  {
   "cell_type": "code",
   "execution_count": 97,
   "id": "836b14d3",
   "metadata": {},
   "outputs": [],
   "source": [
    "class Circle(object):\n",
    "    \n",
    "    # Constructor\n",
    "    def __init__(self, radius=3, color='blue'):\n",
    "        self.radius = radius # Attribute 1\n",
    "        self.color = color   # Attribute 2\n",
    "    \n",
    "    # Method 1\n",
    "    def add_radius(self, r):\n",
    "        self.radius = self.radius + r\n",
    "        return(self.radius)\n",
    "    \n",
    "    # Method 2\n",
    "    def change_color(self, c):\n",
    "        self.color = c\n",
    "    \n",
    "    # Method 3\n",
    "    def draw_circle(self):\n",
    "        \n",
    "        import matplotlib.pyplot as plt\n",
    "        %matplotlib inline\n",
    "        \n",
    "        plt.gca().add_patch(plt.Circle((0, 0), radius=self.radius, fc=self.color))\n",
    "        plt.axis('scaled')\n",
    "        plt.show()"
   ]
  },
  {
   "cell_type": "code",
   "execution_count": 98,
   "id": "c6b8e8b6",
   "metadata": {},
   "outputs": [],
   "source": [
    "red_circle = Circle(10, 'red')"
   ]
  },
  {
   "cell_type": "code",
   "execution_count": 99,
   "id": "3ff87ec8",
   "metadata": {},
   "outputs": [
    {
     "data": {
      "image/png": "[encoded data removed]",
      "text/plain": [
       "<Figure size 432x288 with 1 Axes>"
      ]
     },
     "metadata": {
      "needs_background": "light"
     },
     "output_type": "display_data"
    }
   ],
   "source": [
    "red_circle.draw_circle()"
   ]
  },
  {
   "cell_type": "code",
   "execution_count": 100,
   "id": "3f95c5ea",
   "metadata": {},
   "outputs": [
    {
     "name": "stdout",
     "output_type": "stream",
     "text": [
      "10 red\n"
     ]
    }
   ],
   "source": [
    "print(red_circle.radius, red_circle.color)"
   ]
  },
  {
   "cell_type": "code",
   "execution_count": 101,
   "id": "3b8ece12",
   "metadata": {},
   "outputs": [
    {
     "name": "stdout",
     "output_type": "stream",
     "text": [
      "Radius of object: 10\n",
      "Radius of object of after applying the method add_radius(2): 12\n"
     ]
    }
   ],
   "source": [
    "print('Radius of object:',red_circle.radius)\n",
    "red_circle.add_radius(2)\n",
    "print('Radius of object of after applying the method add_radius(2):',red_circle.radius)"
   ]
  },
  {
   "cell_type": "markdown",
   "id": "281392ef",
   "metadata": {},
   "source": [
    "## Additional Resources:\n",
    "- Python’s standard documentation, https://docs.python.org/3/tutorial/index.html\n",
    "- Introducing Python, https://learning.oreilly.com/library/view/introducing-python-2nd/9781492051374/\n",
    "- Fluent Python, https://learning.oreilly.com/library/view/fluent-python-2nd/9781492056348/\n",
    "- https://www.w3schools.com/python/"
   ]
  }
 ],
 "metadata": {
  "kernelspec": {
   "display_name": "Python 3 (ipykernel)",
   "language": "python",
   "name": "python3"
  },
  "language_info": {
   "codemirror_mode": {
    "name": "ipython",
    "version": 3
   },
   "file_extension": ".py",
   "mimetype": "text/x-python",
   "name": "python",
   "nbconvert_exporter": "python",
   "pygments_lexer": "ipython3",
   "version": "3.9.6"
  }
 },
 "nbformat": 4,
 "nbformat_minor": 5
}
