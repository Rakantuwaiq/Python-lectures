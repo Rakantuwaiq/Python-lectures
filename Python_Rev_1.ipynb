{
 "cells": [
  {
   "cell_type": "markdown",
   "id": "c74a5ae4",
   "metadata": {},
   "source": [
    "# Python Programming Language\n",
    "\n",
    "<img src=\"data:image/png;base64,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\">\n",
    "\n",
    "### Why Python?\n",
    "- Data analysis and forecasting tools\n",
    "- Artificial intelligence\n",
    "- Web apps\n",
    "- Video games\n",
    "- Audio/video apps\n",
    "- Mobile apps\n",
    "- Networking apps\n",
    "- Scientific/mathematical apps\n",
    "- Security utilities\n",
    "- Educational apps\n",
    "\n",
    "### Some Examples\n",
    "- Instagram\n",
    "- Spotify\n",
    "- Dropbox\n",
    "- PyCharm\n",
    "- Django\n",
    "- Blender\n",
    "- ERP5"
   ]
  },
  {
   "cell_type": "markdown",
   "id": "3e1fb0f3",
   "metadata": {},
   "source": [
    "# History of Python\n",
    "\n",
    "### Created by Guido van Rossum in the late 1980s. \n",
    "- Goals\n",
    "    1. Easy to read\n",
    "    2. Require minimal lines of code as compared to other languages\n",
    "\n",
    "- Early versions released over the next few years\n",
    "- Version 1.0 not released until January of 1994\n",
    "\n",
    "### Python 2\n",
    "- First major update to Python\n",
    "- Released in October 2000\n",
    "- Garbage collection, augmented assignment, list comprehension, Unicode strings, etc.\n",
    "- As of April 2020, most recent version of Python 2 is 2.7.18\n",
    "- Superseded by Python 3 but remains in use by some developers\n",
    "\n",
    "### Python 3 \n",
    "- Most recent major version\n",
    "- Up to version 3.9.0 as of late 2020"
   ]
  },
  {
   "cell_type": "markdown",
   "id": "65e3325f",
   "metadata": {},
   "source": [
    "# Interpresters and Compilers\n",
    "\n",
    "### Compiler\n",
    "\n",
    "- Translates source code into code that can run on the computer.\n",
    "- Translates code in advance, compiling it into a ready-to-run executable file.\n",
    "\n",
    "* Benefits:\n",
    "    1. Tends to run faster than interpreter\n",
    "    2. Reveals major errors to the programmer when program is compiled\n",
    "\n",
    "### Interpreter\n",
    "\n",
    "- Translates source code into code that can run on the computer.\n",
    "- Translates code just-in-time, interpreting the source code into executable code as the program runs.\n",
    "\n",
    "* Benefits:\n",
    "    1. Generally easier to use than compiler\n",
    "    2. Deliverable is more “portable”\n",
    "    3. More convenient to perform quick updates"
   ]
  },
  {
   "cell_type": "markdown",
   "id": "06c6e823",
   "metadata": {},
   "source": [
    "# Hello World in Python"
   ]
  },
  {
   "cell_type": "code",
   "execution_count": 1,
   "id": "37c834a0",
   "metadata": {},
   "outputs": [
    {
     "name": "stdout",
     "output_type": "stream",
     "text": [
      "Hello, World!\n"
     ]
    }
   ],
   "source": [
    "print(\"Hello, World!\")"
   ]
  },
  {
   "cell_type": "markdown",
   "id": "56c84d45",
   "metadata": {},
   "source": [
    "# 1. Variables in python"
   ]
  },
  {
   "cell_type": "code",
   "execution_count": 2,
   "id": "39f245b0",
   "metadata": {},
   "outputs": [
    {
     "name": "stdout",
     "output_type": "stream",
     "text": [
      "5\n",
      "Hello, World\n",
      "Sally\n"
     ]
    }
   ],
   "source": [
    "# In Python, variables are created when you assign a value to it:\n",
    "x = 5\n",
    "y = \"Hello, World\"\n",
    "print(x)\n",
    "print(y)\n",
    "\n",
    "# Variables do not need to be declared with any particular type, and can even change type after they have been set.\n",
    "x = 4       # x is of type int\n",
    "x = \"Sally\" # x is now of type str\n",
    "print(x)"
   ]
  },
  {
   "cell_type": "markdown",
   "id": "01439cec",
   "metadata": {},
   "source": [
    "### Case-Sensitive"
   ]
  },
  {
   "cell_type": "code",
   "execution_count": 3,
   "id": "ebda4927",
   "metadata": {},
   "outputs": [
    {
     "ename": "NameError",
     "evalue": "name 'A' is not defined",
     "output_type": "error",
     "traceback": [
      "\u001b[0;31m---------------------------------------------------------------------------\u001b[0m",
      "\u001b[0;31mNameError\u001b[0m                                 Traceback (most recent call last)",
      "Cell \u001b[0;32mIn[3], line 2\u001b[0m\n\u001b[1;32m      1\u001b[0m a \u001b[38;5;241m=\u001b[39m \u001b[38;5;241m4\u001b[39m\n\u001b[0;32m----> 2\u001b[0m \u001b[38;5;28mprint\u001b[39m(\u001b[43mA\u001b[49m)\n",
      "\u001b[0;31mNameError\u001b[0m: name 'A' is not defined"
     ]
    }
   ],
   "source": [
    "a = 4\n",
    "print(A)"
   ]
  },
  {
   "cell_type": "markdown",
   "id": "e37fcb68",
   "metadata": {},
   "source": [
    "### Variable Names in Python\n",
    "\n",
    "- A variable name must start with a letter or the underscore character\n",
    "- A variable name cannot start with a number\n",
    "- A variable name can only contain alpha-numeric characters and underscores (A-z, 0-9, and _ )\n",
    "- Variable names are case-sensitive (age, Age and AGE are three different variables)"
   ]
  },
  {
   "cell_type": "code",
   "execution_count": null,
   "id": "878ec65a",
   "metadata": {},
   "outputs": [],
   "source": [
    "# examples:\n",
    "myvar = \"John\"\n",
    "my_var = \"John\"\n",
    "_my_var = \"John\"\n",
    "myVar = \"John\"\n",
    "MYVAR = \"John\"\n",
    "myvar2 = \"John\""
   ]
  },
  {
   "cell_type": "markdown",
   "id": "639b6812",
   "metadata": {},
   "source": [
    "### One Value to Multiple Variables"
   ]
  },
  {
   "cell_type": "code",
   "execution_count": 26,
   "id": "b1c4322f",
   "metadata": {},
   "outputs": [
    {
     "name": "stdout",
     "output_type": "stream",
     "text": [
      "Orange\n",
      "Orange\n",
      "Orange\n"
     ]
    }
   ],
   "source": [
    "x = y = z = \"Orange\"\n",
    "print(x)\n",
    "print(y)\n",
    "print(z)"
   ]
  },
  {
   "cell_type": "markdown",
   "id": "0d856900",
   "metadata": {},
   "source": [
    "### Many Values to Multiple Variables in Python"
   ]
  },
  {
   "cell_type": "code",
   "execution_count": 27,
   "id": "a9f5d74a",
   "metadata": {},
   "outputs": [
    {
     "name": "stdout",
     "output_type": "stream",
     "text": [
      "Orange\n",
      "Banana\n",
      "Cherry\n"
     ]
    }
   ],
   "source": [
    "x, y, z = \"Orange\", \"Banana\", \"Cherry\"\n",
    "print(x)\n",
    "print(y)\n",
    "print(z)"
   ]
  },
  {
   "cell_type": "markdown",
   "id": "e199ac40",
   "metadata": {},
   "source": [
    "# Python Keywords\n",
    "\n",
    "### Python has a set of keywords that are reserved words that cannot be used as variable names, function names, or any other identifiers\n"
   ]
  },
  {
   "cell_type": "code",
   "execution_count": 61,
   "id": "3a54ab65",
   "metadata": {},
   "outputs": [
    {
     "name": "stdout",
     "output_type": "stream",
     "text": [
      "['False', 'None', 'True', '__peg_parser__', 'and', 'as', 'assert', 'async', 'await', 'break', 'class', 'continue', 'def', 'del', 'elif', 'else', 'except', 'finally', 'for', 'from', 'global', 'if', 'import', 'in', 'is', 'lambda', 'nonlocal', 'not', 'or', 'pass', 'raise', 'return', 'try', 'while', 'with', 'yield']\n"
     ]
    }
   ],
   "source": [
    "import keyword\n",
    "\n",
    "print(keyword.kwlist)"
   ]
  },
  {
   "cell_type": "markdown",
   "id": "6472758e",
   "metadata": {},
   "source": [
    "## 2. Data types in python \n",
    "\n",
    "varibles could be assign to different data types to help us organize data efficiently, this organization ensures that data is stored and manipulated in ways that are logical and approprite for the specific type of data.\n",
    "\n",
    "furthermore data types determine how much memory is allocated for storing different kinds of data.\n"
   ]
  },
  {
   "cell_type": "markdown",
   "id": "711e43f2",
   "metadata": {},
   "source": [
    "# 2.1 Numeric Types "
   ]
  },
  {
   "cell_type": "code",
   "execution_count": 5,
   "id": "dc1f5d68",
   "metadata": {},
   "outputs": [
    {
     "name": "stdout",
     "output_type": "stream",
     "text": [
      "<class 'int'>\n",
      "<class 'float'>\n",
      "<class 'complex'>\n"
     ]
    }
   ],
   "source": [
    "# integer, is a whole number without decimals\n",
    "\n",
    "a = 7\n",
    "print(type(a))\n",
    "\n",
    "#float is a number containing one or more decimal \n",
    "\n",
    "b = 1.3\n",
    "print(type(b))\n",
    "\n",
    "\n",
    "#complex numbers with real and imaginary part\n",
    "\n",
    "c = 4+9j\n",
    "print(type(c))\n"
   ]
  },
  {
   "cell_type": "markdown",
   "id": "6ea7fdde",
   "metadata": {},
   "source": [
    "# Operation with numbers"
   ]
  },
  {
   "cell_type": "markdown",
   "id": "084455e9",
   "metadata": {},
   "source": [
    "### Arthmetic Operators"
   ]
  },
  {
   "cell_type": "code",
   "execution_count": 7,
   "id": "dce20ae0",
   "metadata": {},
   "outputs": [
    {
     "name": "stdout",
     "output_type": "stream",
     "text": [
      "x = 2\n",
      "y = 3\n",
      "z = 6\n",
      "w = 3.0\n",
      "s = 0.0\n",
      "p = 4\n"
     ]
    }
   ],
   "source": [
    "#Addition\n",
    "\n",
    "x = 1 + 1\n",
    "print(f'x = {x}')\n",
    "\n",
    "#Subtraction\n",
    "y = 15 - 12\n",
    "print(f'y = {y}')\n",
    "\n",
    "#Multiplication\n",
    "z = x * y\n",
    "print(f'z = {z}')\n",
    "\n",
    "#Division\n",
    "w = z / x\n",
    "print(f'w = {w}')\n",
    "\n",
    "#Modulus\n",
    "s = w % y\n",
    "print(f's = {s}')\n",
    "\n",
    "#Exponentiation\n",
    "p = x ** 2\n",
    "print(f'p = {p}')"
   ]
  },
  {
   "cell_type": "markdown",
   "id": "d0f12fca",
   "metadata": {},
   "source": [
    "### Assignment Operators"
   ]
  },
  {
   "cell_type": "code",
   "execution_count": 11,
   "id": "756bfa2e",
   "metadata": {},
   "outputs": [
    {
     "name": "stdout",
     "output_type": "stream",
     "text": [
      "a =  1\n",
      "b =  4\n"
     ]
    }
   ],
   "source": [
    "# in python you can assign and Increment by any Arthmetic Operator in the same line\n",
    "a = 0\n",
    "a += 1\n",
    "print('a = ', a)\n",
    "\n",
    "b = 2\n",
    "b *= 2\n",
    "print('b = ', b)\n"
   ]
  },
  {
   "cell_type": "markdown",
   "id": "de243a26",
   "metadata": {},
   "source": [
    "# 2.2 Boolean Data type"
   ]
  },
  {
   "cell_type": "code",
   "execution_count": 14,
   "id": "dbf7ec67",
   "metadata": {},
   "outputs": [
    {
     "name": "stdout",
     "output_type": "stream",
     "text": [
      "<class 'bool'>\n",
      "<class 'bool'>\n"
     ]
    }
   ],
   "source": [
    "right = True \n",
    "\n",
    "print(type(right))\n",
    "\n",
    "wrong = False\n",
    "\n",
    "print(type(wrong))"
   ]
  },
  {
   "cell_type": "markdown",
   "id": "0df46676",
   "metadata": {},
   "source": [
    "### Comparison Operators"
   ]
  },
  {
   "cell_type": "code",
   "execution_count": 7,
   "id": "eccefee6",
   "metadata": {},
   "outputs": [
    {
     "name": "stdout",
     "output_type": "stream",
     "text": [
      "True\n",
      "True\n",
      "True\n",
      "True\n",
      "False\n",
      "False\n"
     ]
    }
   ],
   "source": [
    "# Comparison Operation always return a boolean data \n",
    "print(x == 10)\n",
    "print(x != 1)\n",
    "print(x >= 10)\n",
    "print(x <= 10)\n",
    "print(x > 10)\n",
    "print(x < 10)"
   ]
  },
  {
   "cell_type": "markdown",
   "id": "7432349b",
   "metadata": {},
   "source": [
    "### Logical Operators"
   ]
  },
  {
   "cell_type": "code",
   "execution_count": 22,
   "id": "78c1f654",
   "metadata": {},
   "outputs": [
    {
     "name": "stdout",
     "output_type": "stream",
     "text": [
      "AND Operator  Returns True if both statements are true :-\n",
      "True\n",
      "False\n",
      "False\n",
      "False\n",
      "\n",
      "OR Operator Returns True if one of the statements is true :-\n",
      "True\n",
      "True\n",
      "True\n",
      "False\n",
      "\n",
      "Not Reverse the result, returns False if the result is true :-\n",
      "False\n",
      "True\n"
     ]
    }
   ],
   "source": [
    "# Logical Operation always return a boolean data \n",
    "\n",
    "\n",
    "print('AND Operator  Returns True if both statements are true :-')\n",
    "print(True and True)\n",
    "print(True and False)\n",
    "print(False and True)\n",
    "print(False and False)\n",
    "\n",
    "print('\\nOR Operator Returns True if one of the statements is true :-')\n",
    "print(True or True)\n",
    "print(True or False)\n",
    "print(False or True)\n",
    "print(False or False)\n",
    "\n",
    "\n",
    "print('\\nNot Reverse the result, returns False if the result is true :-')\n",
    "print(not True)\n",
    "print(not False)\n"
   ]
  },
  {
   "cell_type": "markdown",
   "id": "ef6938cb",
   "metadata": {},
   "source": [
    "### Identity Operators"
   ]
  },
  {
   "cell_type": "code",
   "execution_count": 25,
   "id": "a610ba70",
   "metadata": {},
   "outputs": [
    {
     "name": "stdout",
     "output_type": "stream",
     "text": [
      "True\n",
      "False\n",
      "False\n",
      "True\n"
     ]
    }
   ],
   "source": [
    "# is Returns True if both variables are the same object\t\n",
    "\n",
    "x = y = 2 \n",
    "a, b = 2, 3\n",
    "\n",
    "print(x is y)\n",
    "print(a is b)\n",
    "\n",
    "# is not Returns True if both variables are not the same object\n",
    "\n",
    "print(x is not y)\n",
    "print(a is not b)\n"
   ]
  },
  {
   "cell_type": "markdown",
   "id": "777c4d62",
   "metadata": {},
   "source": [
    "# 2.3 Text Type: "
   ]
  },
  {
   "cell_type": "code",
   "execution_count": 32,
   "id": "f52dba42",
   "metadata": {},
   "outputs": [
    {
     "name": "stdout",
     "output_type": "stream",
     "text": [
      "Hello World\n",
      "<class 'str'>\n"
     ]
    }
   ],
   "source": [
    "# string \n",
    "\n",
    "s = 'Hello World'\n",
    "y = '66661111'\n",
    "\n",
    "print(s)\n",
    "print(type(y))"
   ]
  },
  {
   "cell_type": "markdown",
   "id": "a5a4c8e8",
   "metadata": {},
   "source": [
    "# Strings Operators\n"
   ]
  },
  {
   "cell_type": "markdown",
   "id": "52a5a453",
   "metadata": {},
   "source": [
    "### String Concatenation"
   ]
  },
  {
   "cell_type": "code",
   "execution_count": 27,
   "id": "9b3e6731",
   "metadata": {},
   "outputs": [
    {
     "name": "stdout",
     "output_type": "stream",
     "text": [
      "Hello World\n",
      "HelloHelloHello\n",
      "--------------------------------------------------\n"
     ]
    }
   ],
   "source": [
    "s = 'Hello' + ' ' + 'World'\n",
    "print(s)\n",
    "\n",
    "s = 'Hello' * 3\n",
    "print(s)\n",
    "\n",
    "print('-' * 50)"
   ]
  },
  {
   "cell_type": "markdown",
   "id": "2fb2ad56",
   "metadata": {},
   "source": [
    "### Slicing in the Strings"
   ]
  },
  {
   "cell_type": "code",
   "execution_count": 33,
   "id": "ad93aa5c",
   "metadata": {},
   "outputs": [
    {
     "name": "stdout",
     "output_type": "stream",
     "text": [
      "a\n",
      "Ha\n"
     ]
    }
   ],
   "source": [
    "x = 'Hamad'\n",
    "print(x[1:2]) # String Slicing [start : end]\n",
    "print(x[:2]) # String Slicing [start : end]"
   ]
  },
  {
   "cell_type": "markdown",
   "id": "51b7c447",
   "metadata": {},
   "source": [
    "### Membership in the Strings"
   ]
  },
  {
   "cell_type": "code",
   "execution_count": 31,
   "id": "8fe1c68e",
   "metadata": {},
   "outputs": [
    {
     "name": "stdout",
     "output_type": "stream",
     "text": [
      "True\n",
      "True\n"
     ]
    }
   ],
   "source": [
    "# in Returns True if a sequence with the specified value is present in the object\n",
    "print('s' in 'start')\n",
    "# not Returns True if a sequence with the specified value is not present in the object\n",
    "print('x' not in 'y')"
   ]
  },
  {
   "cell_type": "markdown",
   "id": "1fd088d2",
   "metadata": {},
   "source": [
    "### Strings formating"
   ]
  },
  {
   "cell_type": "code",
   "execution_count": 35,
   "id": "84515aac",
   "metadata": {},
   "outputs": [
    {
     "name": "stdout",
     "output_type": "stream",
     "text": [
      "Hello, my name is Hamad\n"
     ]
    }
   ],
   "source": [
    "x = 'Hamad'\n",
    "s = f'Hello, my name is {x}'\n",
    "print(s)"
   ]
  },
  {
   "cell_type": "code",
   "execution_count": 39,
   "id": "78358a30",
   "metadata": {},
   "outputs": [
    {
     "name": "stdout",
     "output_type": "stream",
     "text": [
      "There are 2 people names Hamad just hello\n",
      "There are Hamad people names 2\n"
     ]
    }
   ],
   "source": [
    "s = 'There are {} people names {} just {}'.format(2, 'Hamad', 'hello')\n",
    "print(s)\n",
    "\n",
    "s = 'There are {1} people names {0}'.format(2, 'Hamad')\n",
    "print(s)"
   ]
  },
  {
   "cell_type": "markdown",
   "id": "60beee31",
   "metadata": {},
   "source": [
    "### New Line in the string"
   ]
  },
  {
   "cell_type": "code",
   "execution_count": 45,
   "id": "268e2208",
   "metadata": {},
   "outputs": [
    {
     "name": "stdout",
     "output_type": "stream",
     "text": [
      "Hello, my name is Hamad.\n",
      "Python is great!!\n"
     ]
    }
   ],
   "source": [
    "s = \"Hello, my name is Hamad.\\nPython is great!!\"\n",
    "\n",
    "print(s)"
   ]
  },
  {
   "cell_type": "markdown",
   "id": "2c380114",
   "metadata": {},
   "source": [
    "### Escape Code"
   ]
  },
  {
   "cell_type": "code",
   "execution_count": 47,
   "id": "6b4b7ec6",
   "metadata": {},
   "outputs": [
    {
     "name": "stdout",
     "output_type": "stream",
     "text": [
      "Hello, my name is Hamad Today i will teach you Python!!\n"
     ]
    }
   ],
   "source": [
    "s = \"Hello, my name is Hamad\" \\\n",
    "\" Today i will teach you Python!!\"\n",
    "\n",
    "print(s)"
   ]
  },
  {
   "cell_type": "code",
   "execution_count": 49,
   "id": "f1653888",
   "metadata": {},
   "outputs": [
    {
     "name": "stdout",
     "output_type": "stream",
     "text": [
      "50\n"
     ]
    }
   ],
   "source": [
    "x = 10 + 10 + 10 \\\n",
    "+ 10 + 10\n",
    "\n",
    "print(x)"
   ]
  },
  {
   "cell_type": "markdown",
   "id": "d3e9e09f",
   "metadata": {},
   "source": [
    "### Comments in Python"
   ]
  },
  {
   "cell_type": "code",
   "execution_count": 50,
   "id": "1ab5fab3",
   "metadata": {},
   "outputs": [
    {
     "data": {
      "text/plain": [
       "'\\nAlso\\nMultiple\\nLines\\nComment\\n'"
      ]
     },
     "execution_count": 50,
     "metadata": {},
     "output_type": "execute_result"
    }
   ],
   "source": [
    "# Single Comment\n",
    "\n",
    "'''\n",
    "Multiple\n",
    "Lines\n",
    "Comment\n",
    "'''\n",
    "\n",
    "\"\"\"\n",
    "Also\n",
    "Multiple\n",
    "Lines\n",
    "Comment\n",
    "\"\"\""
   ]
  },
  {
   "cell_type": "markdown",
   "id": "c54a64eb",
   "metadata": {},
   "source": [
    "# Input Function"
   ]
  },
  {
   "cell_type": "code",
   "execution_count": 51,
   "id": "da77bc3b",
   "metadata": {},
   "outputs": [
    {
     "name": "stdout",
     "output_type": "stream",
     "text": [
      "Enter your name: Hamad\n",
      "Hamad\n"
     ]
    }
   ],
   "source": [
    "inpt = input(\"Enter your name: \")\n",
    "print(inpt)"
   ]
  },
  {
   "cell_type": "markdown",
   "id": "67a6c46b",
   "metadata": {},
   "source": [
    "# Check the data type"
   ]
  },
  {
   "cell_type": "code",
   "execution_count": 52,
   "id": "8fd5d66a",
   "metadata": {},
   "outputs": [
    {
     "name": "stdout",
     "output_type": "stream",
     "text": [
      "The data type of 1 is <class 'int'>\n",
      "The data type of 1.5 is <class 'float'>\n",
      "The data type of True is <class 'bool'>\n",
      "The data type of Tuwaiq is <class 'str'>\n"
     ]
    }
   ],
   "source": [
    "print('The data type of 1 is', type(1))\n",
    "print('The data type of 1.5 is', type(1.5))\n",
    "print('The data type of True is', type(True))\n",
    "print('The data type of Tuwaiq is', type('Tuwaiq'))"
   ]
  },
  {
   "cell_type": "markdown",
   "id": "0986c45f",
   "metadata": {},
   "source": [
    "# 2.4 Sequence Data Type"
   ]
  },
  {
   "cell_type": "markdown",
   "id": "efc329f6",
   "metadata": {},
   "source": [
    "## 2.4.1 Lists\n",
    "\n",
    "Collection of variables, no matter what are the data types of these variables.\n",
    "\n",
    "can be written like this :-\n",
    "\n",
    "```Python\n",
    "my_list1 = [1, 2, 3, 4]\n",
    "my_list2 = ['a', 'b', 'c']\n",
    "my_list3 = [1, 'a', True, 2.6]\n",
    "```\n",
    "\n",
    "Properties of lists :-\n",
    "1. You can add new elements.\n",
    "2. You can delete all or some elements.\n",
    "3. You can Change values of elements.\n",
    "4. Allow duplicates.\n",
    "5. Ordered."
   ]
  },
  {
   "cell_type": "markdown",
   "id": "47b09eff",
   "metadata": {},
   "source": [
    "# Operation with list \n",
    "\n"
   ]
  },
  {
   "cell_type": "code",
   "execution_count": 43,
   "id": "70d762f2",
   "metadata": {},
   "outputs": [
    {
     "name": "stdout",
     "output_type": "stream",
     "text": [
      "apple\n",
      "['cherry']\n",
      "['orange', 'banana', 'cherry']\n"
     ]
    }
   ],
   "source": [
    "# access an ittem \n",
    "x = [\"apple\", \"banana\", \"cherry\"] \n",
    "print(x[0])\n",
    "\n",
    "# slice \n",
    "# [starts : ends]\n",
    "\n",
    "print(x[2:])\n",
    "\n",
    "# change an item \n",
    "x = [\"apple\", \"banana\", \"cherry\"] \n",
    "x[0] = 'orange'\n",
    "print(x)\n",
    "\n"
   ]
  },
  {
   "cell_type": "markdown",
   "id": "7723dbd3",
   "metadata": {},
   "source": [
    "### exercise: check the methods for adding an item in a list and compare between append() and insert()"
   ]
  },
  {
   "cell_type": "code",
   "execution_count": null,
   "id": "7fb26045",
   "metadata": {},
   "outputs": [],
   "source": []
  },
  {
   "cell_type": "markdown",
   "id": "9c6c7e52",
   "metadata": {},
   "source": [
    "### exercise: check the methods for removing an item in a list and compare between Remove() and pop()"
   ]
  },
  {
   "cell_type": "code",
   "execution_count": null,
   "id": "4424f68b",
   "metadata": {},
   "outputs": [],
   "source": []
  },
  {
   "cell_type": "markdown",
   "id": "aed2bf3d",
   "metadata": {},
   "source": [
    "## 2.4.2 Tuples\n",
    "\n",
    "Collection of variables, no matter what are the data types of these variables.\n",
    "\n",
    "can be written like this :-\n",
    "\n",
    "```python\n",
    "my_tuple1 = (1, 2, 3, 4)\n",
    "my_tuple2 = ('a', 'b', 'c')\n",
    "my_tuple3 = ('Hello', 10, False, 33.3)\n",
    "```\n",
    "\n",
    "Properties of tuples :-\n",
    "1. You can \"NOT\" add new elements.\n",
    "2. You can \"NOT\" delete all or some elements.\n",
    "3. You can \"NOT\" Change values of elements.\n",
    "4. Allow duplicates.\n",
    "5. Ordered."
   ]
  },
  {
   "cell_type": "code",
   "execution_count": 44,
   "id": "c618f926",
   "metadata": {},
   "outputs": [
    {
     "name": "stdout",
     "output_type": "stream",
     "text": [
      "(1, 2, 3, 4)\n",
      "('a', 'b', 'c')\n",
      "(1, 'a', True, 2.6)\n"
     ]
    }
   ],
   "source": [
    "# define a Tuple\n",
    "\n",
    "my_tuple1 = (1, 2, 3, 4)\n",
    "my_tuple2 = ('a', 'b', 'c')\n",
    "my_tuple3 = (1, 'a', True, 2.6)\n",
    "\n",
    "print(my_tuple1)\n",
    "print(my_tuple2)\n",
    "print(my_tuple3)"
   ]
  },
  {
   "cell_type": "markdown",
   "id": "38197a2f",
   "metadata": {},
   "source": [
    "### exercise: check the previos methods with tuble (accessing, adding, removing)"
   ]
  },
  {
   "cell_type": "code",
   "execution_count": null,
   "id": "7ebe39c0",
   "metadata": {},
   "outputs": [],
   "source": []
  },
  {
   "cell_type": "markdown",
   "id": "149f14f2",
   "metadata": {},
   "source": [
    "# 2.4.3 Range()\n",
    "\n",
    "Range generates a sequence of numbers.\n",
    "\n",
    "By default, the sequence starts at 0, increments by 1, and stops before the specified number.\n"
   ]
  },
  {
   "cell_type": "code",
   "execution_count": 47,
   "id": "67ea82cb",
   "metadata": {},
   "outputs": [
    {
     "name": "stdout",
     "output_type": "stream",
     "text": [
      "<class 'range'> range(0, 6)\n"
     ]
    }
   ],
   "source": [
    "# range(start = 0 (defult) , stop = num, step = 1 (defult))\n",
    "\n",
    "myRange = range(6)\n",
    "print(type(myRange))"
   ]
  },
  {
   "cell_type": "markdown",
   "id": "21eaaec3",
   "metadata": {},
   "source": [
    "# 2.5 Sets Data Type\n",
    "\n",
    "Collection of variables, no matter what are the data types of these variables.\n",
    "\n",
    "can be written like this :-\n",
    "\n",
    "```python\n",
    "my_tuple1 = {1, 2, 3, 4}\n",
    "my_tuple2 = {'a', 'b', 'c'}\n",
    "my_tuple3 = {'Hello', 10, False, 33.3}\n",
    "```\n",
    "\n",
    "Properties of sets :-\n",
    "1. You can \"NOT\" add new elements.\n",
    "2. You can \"NOT\" delete all or some elements.\n",
    "3. You can \"NOT\" Change values of elements.\n",
    "4. Not allow to add duplicates.\n",
    "5. Unordered.\n",
    "6. Unindexed."
   ]
  },
  {
   "cell_type": "code",
   "execution_count": 48,
   "id": "dc9ad054",
   "metadata": {},
   "outputs": [
    {
     "name": "stdout",
     "output_type": "stream",
     "text": [
      "{1, 2, 3, 4}\n",
      "{'a', 'c', 'b'}\n",
      "{False, 33.3, 10, 'Hello'}\n"
     ]
    }
   ],
   "source": [
    "# define a set\n",
    "my_set1 = {1, 2, 3, 4}\n",
    "my_set2 = {'a', 'b', 'c'}\n",
    "my_set3 = {'Hello', 10, False, 33.3}\n",
    "\n",
    "print(my_set1)\n",
    "print(my_set2)\n",
    "print(my_set3)\n"
   ]
  },
  {
   "cell_type": "markdown",
   "id": "77f4f16d",
   "metadata": {},
   "source": [
    "#### No duplicated elements"
   ]
  },
  {
   "cell_type": "code",
   "execution_count": 49,
   "id": "d3337f49",
   "metadata": {},
   "outputs": [
    {
     "name": "stdout",
     "output_type": "stream",
     "text": [
      "{1, 2, 5}\n",
      "{1, 2, 4, 5}\n",
      "{1, 2, 4, 5}\n"
     ]
    }
   ],
   "source": [
    "my_set = {1, 5, 2}\n",
    "print(my_set)\n",
    "\n",
    "my_set.add(4)\n",
    "print(my_set)\n",
    "\n",
    "my_set.add(4)\n",
    "print(my_set)"
   ]
  },
  {
   "cell_type": "markdown",
   "id": "fbe5b715",
   "metadata": {},
   "source": [
    "#### Ordering automatically"
   ]
  },
  {
   "cell_type": "code",
   "execution_count": 50,
   "id": "b0c0b87a",
   "metadata": {},
   "outputs": [
    {
     "name": "stdout",
     "output_type": "stream",
     "text": [
      "{1, 2, 3}\n"
     ]
    }
   ],
   "source": [
    "my_set = {1, 3, 2}\n",
    "print(my_set)"
   ]
  },
  {
   "cell_type": "markdown",
   "id": "1ba0349a",
   "metadata": {},
   "source": [
    "# 2.6 mapping data type"
   ]
  },
  {
   "cell_type": "markdown",
   "id": "b3553549",
   "metadata": {},
   "source": [
    "## Dictionaries\n",
    "\n",
    "Collection of variables, no matter what are the data types of these variables.\n",
    "\n",
    "Dictionaries are used to store data values in key:value pairs\n",
    "\n",
    "Dictionaries can be written like this :-\n",
    "\n",
    "```python\n",
    "my_dict = {\n",
    "    'names':['Hamad', 'Razan', 'Saleh'],\n",
    "    'ids':[111, 222, 333]\n",
    "}\n",
    "```\n",
    "\n",
    "Properties of sets :-\n",
    "1. No duplicate in the keys just.\n",
    "2. You can add new elements.\n",
    "3. You can delete all or some elements.\n",
    "4. You can Change values of elements.\n",
    "5. Ordered."
   ]
  },
  {
   "cell_type": "markdown",
   "id": "ba4b5f8e",
   "metadata": {},
   "source": [
    "#### Define dictionary"
   ]
  },
  {
   "cell_type": "code",
   "execution_count": 51,
   "id": "15aba6d2",
   "metadata": {},
   "outputs": [
    {
     "name": "stdout",
     "output_type": "stream",
     "text": [
      "{'Name': 'Sara', 'B.O.D': [1995, 20], 'Age': 26}\n",
      "3\n"
     ]
    }
   ],
   "source": [
    "dict1 = {\n",
    "  \"Name\": \"Sara\",\n",
    "  \"B.O.D\": [1995, 20],\n",
    "  \"Age\": 26 \n",
    "}\n",
    "\n",
    "print(dict1)\n",
    "print(len(dict1))"
   ]
  },
  {
   "cell_type": "markdown",
   "id": "a0ba815d",
   "metadata": {},
   "source": [
    "#### No duplication on keys"
   ]
  },
  {
   "cell_type": "code",
   "execution_count": 52,
   "id": "7910cfc8",
   "metadata": {},
   "outputs": [
    {
     "name": "stdout",
     "output_type": "stream",
     "text": [
      "{'Name': 'Sara', 'B.O.D': 1995, 'Age': 56}\n"
     ]
    }
   ],
   "source": [
    "dict1 = {\n",
    "  \"Name\": \"Sara\",\n",
    "  \"B.O.D\": 1995,\n",
    "  \"Age\": 26,\n",
    "  \"Age\": 56\n",
    "}\n",
    "\n",
    "print(dict1)"
   ]
  },
  {
   "cell_type": "markdown",
   "id": "921adea1",
   "metadata": {},
   "source": [
    "#### You can change the value of an element"
   ]
  },
  {
   "cell_type": "code",
   "execution_count": 53,
   "id": "35d79b37",
   "metadata": {},
   "outputs": [
    {
     "name": "stdout",
     "output_type": "stream",
     "text": [
      "{'Name': 'Sara', 'B.O.D': 1995, 'Age': 56, 'Blood Type': 'B'}\n"
     ]
    }
   ],
   "source": [
    "# Changeable\n",
    "dict1[\"Blood Type\"] = \"B\"\n",
    "print(dict1)"
   ]
  },
  {
   "cell_type": "markdown",
   "id": "5e70ee40",
   "metadata": {},
   "source": [
    "#### Accessing items in dictionaries"
   ]
  },
  {
   "cell_type": "code",
   "execution_count": 54,
   "id": "5d59d441",
   "metadata": {},
   "outputs": [
    {
     "name": "stdout",
     "output_type": "stream",
     "text": [
      "Sara\n",
      "Sara\n"
     ]
    }
   ],
   "source": [
    "# Accessing Items\n",
    "x = dict1[\"Name\"]\n",
    "print(x)\n",
    "\n",
    "x = dict1.get(\"Name\")\n",
    "print(x)"
   ]
  },
  {
   "cell_type": "markdown",
   "id": "f31a3b54",
   "metadata": {},
   "source": [
    "#### Collection of values"
   ]
  },
  {
   "cell_type": "code",
   "execution_count": 55,
   "id": "7710e3f2",
   "metadata": {},
   "outputs": [
    {
     "name": "stdout",
     "output_type": "stream",
     "text": [
      "dict_values(['Sara', 1995, 56, 'B'])\n"
     ]
    }
   ],
   "source": [
    "print(dict1.values())"
   ]
  },
  {
   "cell_type": "markdown",
   "id": "dbdcdf4f",
   "metadata": {},
   "source": [
    "#### Collection of keys"
   ]
  },
  {
   "cell_type": "code",
   "execution_count": 56,
   "id": "43519ab9",
   "metadata": {},
   "outputs": [
    {
     "name": "stdout",
     "output_type": "stream",
     "text": [
      "dict_keys(['Name', 'B.O.D', 'Age', 'Blood Type'])\n"
     ]
    }
   ],
   "source": [
    "print(dict1.keys())"
   ]
  },
  {
   "cell_type": "markdown",
   "id": "72dc277a",
   "metadata": {},
   "source": [
    "#### Collection of items (both keys and values)"
   ]
  },
  {
   "cell_type": "code",
   "execution_count": 57,
   "id": "f7736392",
   "metadata": {},
   "outputs": [
    {
     "name": "stdout",
     "output_type": "stream",
     "text": [
      "dict_items([('Name', 'Sara'), ('B.O.D', 1995), ('Age', 56), ('Blood Type', 'B')])\n"
     ]
    }
   ],
   "source": [
    "print(dict1.items())"
   ]
  },
  {
   "cell_type": "markdown",
   "id": "d510742f",
   "metadata": {},
   "source": [
    "#### You can change values even after using values() method"
   ]
  },
  {
   "cell_type": "code",
   "execution_count": 58,
   "id": "3020b098",
   "metadata": {},
   "outputs": [
    {
     "name": "stdout",
     "output_type": "stream",
     "text": [
      "dict_values(['Sara', 1995, 56, 'B'])\n",
      "dict_values(['Sara', 1994, 56, 'B'])\n"
     ]
    }
   ],
   "source": [
    "x = dict1.values()\n",
    "print(x) #before the change\n",
    "\n",
    "dict1[\"B.O.D\"] = 1994\n",
    "print(x) #after the change"
   ]
  },
  {
   "cell_type": "markdown",
   "id": "505b9c8a",
   "metadata": {},
   "source": [
    "#### update, pop and remove "
   ]
  },
  {
   "cell_type": "code",
   "execution_count": 59,
   "id": "6417e243",
   "metadata": {},
   "outputs": [
    {
     "name": "stdout",
     "output_type": "stream",
     "text": [
      "{'Name': 'Reem', 'B.O.D': 1994, 'Age': 56, 'Blood Type': 'B'}\n",
      "{'Name': 'Reem', 'B.O.D': 1994, 'Age': 56}\n",
      "{'Name': 'Reem', 'B.O.D': 1994}\n"
     ]
    }
   ],
   "source": [
    "dict1.update({\"Name\": \"Reem\"})\n",
    "print(dict1)\n",
    "\n",
    "dict1.pop(\"Blood Type\")\n",
    "print(dict1)\n",
    "\n",
    "dict1.popitem()\n",
    "print(dict1)"
   ]
  },
  {
   "cell_type": "markdown",
   "id": "30795930",
   "metadata": {},
   "source": [
    "# there are 4 built-in data types in Python used to store collections of data \n",
    "\n",
    "### summery "
   ]
  },
  {
   "cell_type": "markdown",
   "id": "8c44c61f",
   "metadata": {},
   "source": [
    "<img src=https://miro.medium.com/v2/resize:fit:1134/1*WMiNIQ9THariDSJw47uU1w.png > "
   ]
  },
  {
   "cell_type": "markdown",
   "id": "f9d173be",
   "metadata": {},
   "source": [
    "# 3. Type Conversion"
   ]
  },
  {
   "cell_type": "code",
   "execution_count": 56,
   "id": "19c4999a",
   "metadata": {},
   "outputs": [
    {
     "name": "stdout",
     "output_type": "stream",
     "text": [
      "Value of num_new: 124.23\n",
      "datatype of num_new: <class 'float'>\n"
     ]
    }
   ],
   "source": [
    "num_int = 123\n",
    "num_flo = 1.23\n",
    "\n",
    "num_new = num_int + num_flo\n",
    "\n",
    "print(\"Value of num_new:\",num_new)\n",
    "print(\"datatype of num_new:\",type(num_new))"
   ]
  },
  {
   "cell_type": "markdown",
   "id": "f336581f",
   "metadata": {},
   "source": [
    "# Casting"
   ]
  },
  {
   "cell_type": "code",
   "execution_count": 57,
   "id": "57481f85",
   "metadata": {},
   "outputs": [],
   "source": [
    "# If you want to specify the data type of a variable, this can be done with casting.\n",
    "x = str(3)    # x will be '3'\n",
    "y = int(3.9)    # y will be 3\n",
    "z = float(3)  # z will be 3.0"
   ]
  },
  {
   "cell_type": "code",
   "execution_count": 58,
   "id": "e0370d69",
   "metadata": {},
   "outputs": [
    {
     "name": "stdout",
     "output_type": "stream",
     "text": [
      "<class 'str'> 3\n",
      "<class 'int'> 3\n",
      "<class 'float'> 3.0\n"
     ]
    }
   ],
   "source": [
    "print(type(x), x)\n",
    "print(type(y), y)\n",
    "print(type(z), z)"
   ]
  },
  {
   "cell_type": "markdown",
   "id": "3094dbb9",
   "metadata": {},
   "source": [
    "### Task: edit immutable using casting trick "
   ]
  },
  {
   "cell_type": "markdown",
   "id": "01110d54",
   "metadata": {},
   "source": [
    "# Errors"
   ]
  },
  {
   "cell_type": "markdown",
   "id": "8fc22254",
   "metadata": {},
   "source": [
    "### Syntax Error"
   ]
  },
  {
   "cell_type": "code",
   "execution_count": 66,
   "id": "ab19a0e8",
   "metadata": {},
   "outputs": [
    {
     "ename": "SyntaxError",
     "evalue": "EOL while scanning string literal (3003027488.py, line 1)",
     "output_type": "error",
     "traceback": [
      "\u001b[0;36m  Cell \u001b[0;32mIn[66], line 1\u001b[0;36m\u001b[0m\n\u001b[0;31m    s = 'hamad\u001b[0m\n\u001b[0m              ^\u001b[0m\n\u001b[0;31mSyntaxError\u001b[0m\u001b[0;31m:\u001b[0m EOL while scanning string literal\n"
     ]
    }
   ],
   "source": [
    "s = 'hamad"
   ]
  },
  {
   "cell_type": "code",
   "execution_count": 67,
   "id": "e8a888ed",
   "metadata": {},
   "outputs": [
    {
     "ename": "SyntaxError",
     "evalue": "invalid syntax (2001812892.py, line 3)",
     "output_type": "error",
     "traceback": [
      "\u001b[0;36m  Cell \u001b[0;32mIn[67], line 3\u001b[0;36m\u001b[0m\n\u001b[0;31m    if count < 1 or count > 10\u001b[0m\n\u001b[0m                              ^\u001b[0m\n\u001b[0;31mSyntaxError\u001b[0m\u001b[0;31m:\u001b[0m invalid syntax\n"
     ]
    }
   ],
   "source": [
    "count = 1\n",
    "\n",
    "if count < 1 or count > 10\n",
    "    print('Sorry')\n",
    "else:\n",
    "    print('Thank you')"
   ]
  },
  {
   "cell_type": "markdown",
   "id": "f57df909",
   "metadata": {},
   "source": [
    "### Logic Error"
   ]
  },
  {
   "cell_type": "code",
   "execution_count": 68,
   "id": "faba70be",
   "metadata": {},
   "outputs": [
    {
     "name": "stdout",
     "output_type": "stream",
     "text": [
      "green\n",
      "10\n"
     ]
    }
   ],
   "source": [
    "fav_number = input(\"What is your favorite number?\")\n",
    "fav_color = input(\"What is your favorite number?\")\n",
    "\n",
    "print(fav_number)\n",
    "print(fav_color)"
   ]
  },
  {
   "cell_type": "markdown",
   "id": "e0a078b7",
   "metadata": {},
   "source": [
    "# Additional Resources:\n",
    "\n",
    "- Python’s standard documentation, https://docs.python.org/3/tutorial/index.html\n",
    "- Introducing Python, https://learning.oreilly.com/library/view/introducing-python-2nd/9781492051374/\n",
    "- Fluent Python, https://learning.oreilly.com/library/view/fluent-python-2nd/9781492056348/\n",
    "- https://www.w3schools.com/python/"
   ]
  },
  {
   "cell_type": "code",
   "execution_count": null,
   "id": "50e20956",
   "metadata": {},
   "outputs": [],
   "source": []
  }
 ],
 "metadata": {
  "kernelspec": {
   "display_name": "Python 3 (ipykernel)",
   "language": "python",
   "name": "python3"
  },
  "language_info": {
   "codemirror_mode": {
    "name": "ipython",
    "version": 3
   },
   "file_extension": ".py",
   "mimetype": "text/x-python",
   "name": "python",
   "nbconvert_exporter": "python",
   "pygments_lexer": "ipython3",
   "version": "3.9.6"
  }
 },
 "nbformat": 4,
 "nbformat_minor": 5
}
